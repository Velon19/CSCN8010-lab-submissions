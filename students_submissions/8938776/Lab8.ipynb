{
 "cells": [
  {
   "cell_type": "markdown",
   "metadata": {},
   "source": [
    "# __Lab Assignment - 8__\n",
    "\n",
    "## Velon Murugathas\n",
    "## 8938776"
   ]
  },
  {
   "cell_type": "markdown",
   "metadata": {},
   "source": [
    "## 1. Setup PyTorch"
   ]
  },
  {
   "cell_type": "code",
   "execution_count": 1,
   "metadata": {},
   "outputs": [],
   "source": [
    "import torch                                                                    # Importing pytorch library"
   ]
  },
  {
   "cell_type": "markdown",
   "metadata": {},
   "source": [
    "## 2.\n",
    "\n",
    "* Calculating the dot product between two vectors each of length 3"
   ]
  },
  {
   "cell_type": "code",
   "execution_count": 2,
   "metadata": {},
   "outputs": [
    {
     "name": "stdout",
     "output_type": "stream",
     "text": [
      "The PyTorch Dot Product is  56.0\n"
     ]
    }
   ],
   "source": [
    "vector_a_torch = torch.tensor([2, 3, 4], dtype=torch.float32)                   # Defining two vectors using PyTorch tensors\n",
    "vector_b_torch = torch.tensor([5, 6, 7], dtype=torch.float32)                   # The dtype=torch.float32 ensures the vectors contain floating point numbers\n",
    "\n",
    "dot_product_torch = torch.dot(vector_a_torch, vector_b_torch)                   # Calculating the dot product of the two vectors using the torch.dot function\n",
    "print(\"The PyTorch Dot Product is \", dot_product_torch.item())                         # The dot_product_torch.item() extracts the numerical value from the PyTorch tensor"
   ]
  },
  {
   "cell_type": "markdown",
   "metadata": {},
   "source": [
    "* Calculating the matrix multiplication of two 2-dimensional matrices, each with a size of (2,2)"
   ]
  },
  {
   "cell_type": "code",
   "execution_count": 3,
   "metadata": {},
   "outputs": [
    {
     "name": "stdout",
     "output_type": "stream",
     "text": [
      "The PyTorch Matrix Multiplication is \n",
      " [[36. 41.]\n",
      " [64. 73.]]\n"
     ]
    }
   ],
   "source": [
    "matrix_a_torch = torch.tensor([[2, 3], [4, 5]], dtype=torch.float32)            # Defining a two 2x2 matrices using PyTorch tensors\n",
    "matrix_b_torch = torch.tensor([[6, 7], [8, 9]], dtype=torch.float32)            # The dtype=torch.float32 ensures the matrices contain floating-point numbers\n",
    "\n",
    "matrix_product_torch = torch.mm(matrix_a_torch, matrix_b_torch)                 # Calculating the matrix multiplication of the two matrices\n",
    "print(\"The PyTorch Matrix Multiplication is \\n\", matrix_product_torch.numpy())         # Printing the result of the PyTorch matrix multiplication"
   ]
  },
  {
   "cell_type": "markdown",
   "metadata": {},
   "source": [
    "## 3.\n",
    "* Calculate the dot product between the same vectors as above (re-define them in Tensorflow)"
   ]
  },
  {
   "cell_type": "code",
   "execution_count": 1,
   "metadata": {},
   "outputs": [
    {
     "name": "stdout",
     "output_type": "stream",
     "text": [
      "The TensorFlow Dot Product is  56.0\n"
     ]
    }
   ],
   "source": [
    "import tensorflow as tf                                                         # Importing TensorFlow library\n",
    "\n",
    "vector_a_tf = tf.constant([2, 3, 4], dtype=tf.float32)                          # Defining two TensorFlow constants representing the vectors\n",
    "vector_b_tf = tf.constant([5, 6, 7], dtype=tf.float32)                          # The dtype=tf.float32 ensures the vectors contain floating-point numbers\n",
    "\n",
    "dot_product_tf = tf.tensordot(vector_a_tf, vector_b_tf, axes=1)                 # Calculating the dot product between the two vectors using the tf.tensordot function with axes=1. The axes parameter specifies which dimension to sum over.\n",
    "print(\"The TensorFlow Dot Product is \", dot_product_tf.numpy())"
   ]
  },
  {
   "cell_type": "markdown",
   "metadata": {},
   "source": [
    "* Calculate the matrix multiplication of the same matrics as above (re-define them in Tensorflow)"
   ]
  },
  {
   "cell_type": "code",
   "execution_count": 2,
   "metadata": {},
   "outputs": [
    {
     "name": "stdout",
     "output_type": "stream",
     "text": [
      "The TensorFlow Matrix Multiplication is \n",
      " [[36. 41.]\n",
      " [64. 73.]]\n"
     ]
    }
   ],
   "source": [
    "matrix_a_tf = tf.constant([[2, 3], [4, 5]], dtype=tf.float32)                   # Defining the same matrices in TensorFlow\n",
    "matrix_b_tf = tf.constant([[6, 7], [8, 9]], dtype=tf.float32)\n",
    "\n",
    "matrix_product_tf = tf.matmul(matrix_a_tf, matrix_b_tf)                         # Calculating the matrix multiplication of the same matrices as above\n",
    "print(\"The TensorFlow Matrix Multiplication is \\n\", matrix_product_tf.numpy())"
   ]
  }
 ],
 "metadata": {
  "kernelspec": {
   "display_name": "tensorflow_cpu",
   "language": "python",
   "name": "python3"
  },
  "language_info": {
   "codemirror_mode": {
    "name": "ipython",
    "version": 3
   },
   "file_extension": ".py",
   "mimetype": "text/x-python",
   "name": "python",
   "nbconvert_exporter": "python",
   "pygments_lexer": "ipython3",
   "version": "3.11.5"
  }
 },
 "nbformat": 4,
 "nbformat_minor": 2
}
