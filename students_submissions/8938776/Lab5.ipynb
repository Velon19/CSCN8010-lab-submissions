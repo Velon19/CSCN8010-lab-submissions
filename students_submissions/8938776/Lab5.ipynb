{
 "cells": [
  {
   "cell_type": "markdown",
   "metadata": {},
   "source": [
    "# __Velon Murugathas__ Lab 5 Assignment\n",
    "\n",
    "## Cross-Validation for Model Selection"
   ]
  },
  {
   "cell_type": "code",
   "execution_count": 14,
   "metadata": {},
   "outputs": [],
   "source": [
    "from sklearn.datasets import load_diabetes\n",
    "from sklearn.model_selection import cross_val_score, KFold\n",
    "from sklearn.preprocessing import PolynomialFeatures\n",
    "from sklearn.linear_model import LinearRegression\n",
    "import pandas as pd\n",
    "\n",
    "diabetes = load_diabetes()                                      # Loading the Diabetes dataset\n",
    "X = diabetes.data\n",
    "y = diabetes.target"
   ]
  },
  {
   "cell_type": "markdown",
   "metadata": {},
   "source": [
    "## Perform cross-validation on nine polynomial models, ranging from degree 0 to 8"
   ]
  },
  {
   "cell_type": "code",
   "execution_count": 15,
   "metadata": {},
   "outputs": [],
   "source": [
    "degrees = [0, 1, 2, 3, 4, 5, 6, 7, 8]\n",
    "cv_results = []\n",
    "\n",
    "for degree in degrees:\n",
    "    poly_features = PolynomialFeatures(degree=degree)\n",
    "    X_poly = poly_features.fit_transform(X)\n",
    "    \n",
    "    model = LinearRegression()\n",
    "    \n",
    "    kf = KFold(n_splits=5)\n",
    "    r2_scores = cross_val_score(model, X_poly, y, cv=kf, scoring='r2')\n",
    "    mae_scores = -cross_val_score(model, X_poly, y, cv=kf, scoring='neg_mean_absolute_error')\n",
    "    mape_scores = -cross_val_score(model, X_poly, y, cv=kf, scoring='neg_mean_absolute_percentage_error')\n",
    "    \n",
    "    cv_results.append((degree, r2_scores, mae_scores, mape_scores))\n"
   ]
  },
  {
   "cell_type": "markdown",
   "metadata": {},
   "source": [
    "## Include the R-Squared, Mean Absolute Error (MAE) and MAPE metrics for each model."
   ]
  },
  {
   "cell_type": "code",
   "execution_count": 16,
   "metadata": {},
   "outputs": [
    {
     "name": "stdout",
     "output_type": "stream",
     "text": [
      "   Degree                                          R-Squared   \n",
      "0       0  [-0.098447684719976, -0.02786737771119996, -0....  \\\n",
      "1       1  [0.4295561538258379, 0.5225993866099365, 0.482...   \n",
      "2       2  [0.3665137244906693, 0.5023038092363092, 0.446...   \n",
      "3       3  [-11.357075742146783, -25.84895514123222, -47....   \n",
      "4       4  [-36.251835231035464, -175.92042330006768, -45...   \n",
      "5       5  [-35.33817240971148, -168.08323830267776, -45....   \n",
      "6       6  [-35.314273049163795, -168.46434534699304, -45...   \n",
      "7       7  [-35.3134145749255, -168.46994840756065, -45.3...   \n",
      "8       8  [-35.30263680072528, -168.47316642280705, -45....   \n",
      "\n",
      "                                                 MAE   \n",
      "0  [60.952509787694574, 68.32170480949804, 67.135...  \\\n",
      "1  [43.02616605962198, 44.80048010224325, 48.1557...   \n",
      "2  [45.01657162448429, 43.79149726937093, 48.4584...   \n",
      "3  [152.5505617977528, 220.1011235955056, 349.465...   \n",
      "4  [231.19620255360107, 350.3423632810807, 305.45...   \n",
      "5  [227.96345865885243, 342.25120362653377, 303.9...   \n",
      "6  [227.91990469387943, 342.3363054048061, 303.86...   \n",
      "7  [227.91732093049097, 342.3358892152651, 303.87...   \n",
      "8  [227.91096334899495, 342.34471661037895, 303.8...   \n",
      "\n",
      "                                                MAPE  Mean R-Squared   \n",
      "0  [0.7156222321542962, 0.5589453185094019, 0.629...       -0.027506  \\\n",
      "1  [0.42270160305883875, 0.38157807356314527, 0.4...        0.482316   \n",
      "2  [0.4554402713916899, 0.3856425814164665, 0.414...        0.391502   \n",
      "3  [1.2678342786011663, 1.478194400403391, 2.7538...     -181.520036   \n",
      "4  [1.9867113451091092, 2.9595865208585033, 2.222...      -70.667516   \n",
      "5  [1.9456068666502555, 2.9006420989246777, 2.246...      -67.387407   \n",
      "6  [1.9451812651415241, 2.901883016022559, 2.2465...      -67.447482   \n",
      "7  [1.945156344207294, 2.9018981341241563, 2.2466...      -67.448529   \n",
      "8  [1.9452353393693556, 2.901944506845951, 2.2466...      -67.442248   \n",
      "\n",
      "   Std Dev R-Squared    Mean MAE  Std Dev MAE  Mean MAPE  Std Dev MAPE  \n",
      "0           0.036772   66.045624     3.474660   0.623622      0.065610  \n",
      "1           0.049269   44.276499     2.100110   0.394860      0.029602  \n",
      "2           0.120519   46.612882     2.192124   0.402669      0.029594  \n",
      "3         229.329786  342.740488   140.082337   2.327479      0.827285  \n",
      "4          53.160839  303.158461    39.359835   2.453685      0.375148  \n",
      "5          50.797106  295.686026    37.255902   2.405233      0.352594  \n",
      "6          50.957110  295.631865    37.280642   2.404954      0.353004  \n",
      "7          50.959410  295.630403    37.281440   2.404952      0.353014  \n",
      "8          50.964952  295.580633    37.272044   2.404587      0.352654  \n"
     ]
    }
   ],
   "source": [
    "results_df = pd.DataFrame(cv_results, columns=['Degree', 'R-Squared', 'MAE', 'MAPE'])\n",
    "results_df['Mean R-Squared'] = results_df['R-Squared'].apply(lambda x: x.mean())\n",
    "results_df['Std Dev R-Squared'] = results_df['R-Squared'].apply(lambda x: x.std())\n",
    "results_df['Mean MAE'] = results_df['MAE'].apply(lambda x: x.mean())\n",
    "results_df['Std Dev MAE'] = results_df['MAE'].apply(lambda x: x.std())\n",
    "results_df['Mean MAPE'] = results_df['MAPE'].apply(lambda x: x.mean())\n",
    "results_df['Std Dev MAPE'] = results_df['MAPE'].apply(lambda x: x.std())\n",
    "\n",
    "print(results_df)"
   ]
  },
  {
   "cell_type": "markdown",
   "metadata": {},
   "source": [
    "## Chosing the best model"
   ]
  },
  {
   "cell_type": "code",
   "execution_count": 17,
   "metadata": {},
   "outputs": [
    {
     "name": "stdout",
     "output_type": "stream",
     "text": [
      "The best model is chosen based on the highest R-squared value and the lowest MAE and MAPE. The model with degree 1 exhibits the highest R-squared of 0.4823, the lowest MAE of 44.2765, and the lowest MAPE of 0.3949.\n"
     ]
    }
   ],
   "source": [
    "best_r2_degree = results_df['Mean R-Squared'].idxmax()\n",
    "best_mae_degree = results_df['Mean MAE'].idxmin()\n",
    "best_mape_degree = results_df['Mean MAPE'].idxmin()\n",
    "\n",
    "explanation = \"The best model is chosen based on the highest R-squared value and the lowest MAE and MAPE. The model with degree {} exhibits the highest R-squared of {:.4f}, the lowest MAE of {:.4f}, and the lowest MAPE of {:.4f}.\".format(\n",
    "    best_r2_degree, results_df.at[best_r2_degree, 'Mean R-Squared'], results_df.at[best_mae_degree, 'Mean MAE'], results_df.at[best_mape_degree, 'Mean MAPE'])\n",
    "print(explanation)\n"
   ]
  },
  {
   "cell_type": "markdown",
   "metadata": {},
   "source": [
    "### Identification of the Best Model: Identify the model that exhibits the highest performance based on the R-Squared, MAE and MAPE metrics. Provide an explanation for choosing this specific model\n",
    "\n",
    "\n",
    "The best model is the one with degree 1 as it outperforms the others in terms of R-squared, MAE, and MAPE metrics. It has the highest R-squared (0.4823), signifying a strong fit to the data, and the lowest MAE (44.2765) and MAPE (0.3949), indicating high accuracy in making predictions. This model strikes a balance between explaining variance and minimizing prediction errors, making it the top choice among the models."
   ]
  },
  {
   "cell_type": "markdown",
   "metadata": {},
   "source": [
    "### Additional analysis and interpretation of the models' performances. You may explore further insights beyond the required metrics. The analysis should provide at least one relevant insight about the choice of the best model, or about characteristics of the chosen one\n",
    "\n",
    "The model with degree 1 is doing well by the standard metrics, but we should also check if it overfits the data, see how easy it is to understand, and how it handles unusual data points. We need to think about how fast it can make predictions and if it will work well over a long time. It might also be worth trying a combination of models to improve its performance. All of this will help make sure the model is good for real-world use."
   ]
  }
 ],
 "metadata": {
  "kernelspec": {
   "display_name": "Python 3",
   "language": "python",
   "name": "python3"
  },
  "language_info": {
   "codemirror_mode": {
    "name": "ipython",
    "version": 3
   },
   "file_extension": ".py",
   "mimetype": "text/x-python",
   "name": "python",
   "nbconvert_exporter": "python",
   "pygments_lexer": "ipython3",
   "version": "3.11.5"
  }
 },
 "nbformat": 4,
 "nbformat_minor": 2
}
