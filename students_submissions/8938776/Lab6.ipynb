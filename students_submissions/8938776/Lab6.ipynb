{
 "cells": [
  {
   "cell_type": "markdown",
   "metadata": {},
   "source": [
    "# __Velon Murugathas__ 8938776\n",
    "## Lab 6 - Logistic Regression"
   ]
  },
  {
   "cell_type": "markdown",
   "metadata": {},
   "source": [
    "### Using SciKit-Learn, train a binary logistic regression model on the Iris dataset. Use all four features and define only 2 labels: virginica and non-virginica"
   ]
  },
  {
   "cell_type": "code",
   "execution_count": 15,
   "metadata": {},
   "outputs": [
    {
     "name": "stdout",
     "output_type": "stream",
     "text": [
      "Accuracy: 1.00\n"
     ]
    }
   ],
   "source": [
    "import numpy as np\n",
    "import pandas as pd\n",
    "from sklearn import datasets\n",
    "from sklearn.model_selection import train_test_split\n",
    "from sklearn.preprocessing import StandardScaler\n",
    "from sklearn.linear_model import LogisticRegression\n",
    "from sklearn.metrics import accuracy_score\n",
    "from sklearn.metrics import confusion_matrix\n",
    "\n",
    "iris = datasets.load_iris()                                                                     # Loading the Iris dataset\n",
    "df = pd.DataFrame(data=iris.data, columns=iris.feature_names)\n",
    "df['target'] = iris.target\n",
    "\n",
    "df['target'] = np.where(df['target'] == 2, 'virginica', 'non-virginica')                        # Create binary labels virginica and non-virginica\n",
    "\n",
    "X = df.drop('target', axis=1)                                                                   # Splitting the data into features X and labels y\n",
    "y = df['target']\n",
    "\n",
    "X_train, X_test, y_train, y_test = train_test_split(X, y, test_size=0.2, random_state=42)       # Splitting the data into training and testing sets\n",
    "\n",
    "scaler = StandardScaler()                                                                      \n",
    "X_train = scaler.fit_transform(X_train)\n",
    "X_test = scaler.transform(X_test)\n",
    "\n",
    "model = LogisticRegression(solver='liblinear')                                                  # Creating and training the logistic regression model\n",
    "model.fit(X_train, y_train)\n",
    "\n",
    "y_pred = model.predict(X_test)                                                                  # Make predictions on the test data\n",
    "\n",
    "accuracy = accuracy_score(y_test, y_pred)                                                       # Evaluate the model's accuracy\n",
    "print(f\"Accuracy: {accuracy:.2f}\")\n"
   ]
  },
  {
   "cell_type": "markdown",
   "metadata": {},
   "source": [
    "### Evaluating the failure modes"
   ]
  },
  {
   "cell_type": "code",
   "execution_count": 16,
   "metadata": {},
   "outputs": [
    {
     "name": "stdout",
     "output_type": "stream",
     "text": [
      "Misclassified Instances:\n",
      "Empty DataFrame\n",
      "Columns: [Actual Label, Predicted Label]\n",
      "Index: []\n"
     ]
    }
   ],
   "source": [
    "misclassified_indices = np.where(y_pred != y_test)                                          # Finding the indices where the predicted labels do not match the actual labels\n",
    "\n",
    "misclassified_instances = X_test[misclassified_indices]                                     # Extracting the feature data of the misclassified instances\n",
    "\n",
    "misclassified_actual_labels = y_test.iloc[misclassified_indices]                            # Extracting the actual labels of the misclassified instances\n",
    "\n",
    "misclassified_predicted_labels = y_pred[misclassified_indices]                              # Extracting the predicted labels of the misclassified instances\n",
    "\n",
    "print(\"Misclassified Instances:\")                                                           \n",
    "\n",
    "misclassified_data = pd.DataFrame({'Actual Label': misclassified_actual_labels, 'Predicted Label': misclassified_predicted_labels})     # Creating a DataFrame to display the actual and predicted labels for misclassified instances\n",
    "\n",
    "print(misclassified_data)                                                                   # Printing the DataFrame containing the misclassified instances and their labels\n"
   ]
  },
  {
   "cell_type": "markdown",
   "metadata": {},
   "source": [
    "__Explanation__\n",
    "\n",
    "The instances that the model got wrong was checked and found none. The \"Misclassified Instances\" section shows an empty table, which means the model made no mistakes. It confirms that the model did an excellent job classifying \"virginica\" and \"non-virginica\" in the Iris dataset with high accuracy."
   ]
  },
  {
   "cell_type": "markdown",
   "metadata": {},
   "source": [
    "### Shared properties for this case"
   ]
  },
  {
   "cell_type": "code",
   "execution_count": 17,
   "metadata": {},
   "outputs": [
    {
     "name": "stdout",
     "output_type": "stream",
     "text": [
      "Mean Feature Values - Correctly Classified:\n",
      "[ 0.20824055 -0.04844444  0.08977889  0.10678803]\n",
      "\n",
      "Standard Deviation of Feature Values - Correctly Classified:\n",
      "[1.01274741 0.84570921 1.03743674 1.0642496 ]\n"
     ]
    }
   ],
   "source": [
    "\n",
    "correctly_classified_indices = np.where(y_pred == y_test)                               # For separating correctly classified and misclassified instances\n",
    "correctly_classified_instances = X_test[correctly_classified_indices]\n",
    "\n",
    "if len(correctly_classified_indices[0]) > 0:                                            # To check if there are any correctly classified instances\n",
    "    mean_correctly_classified = np.mean(correctly_classified_instances, axis=0)         # Calculating the mean and standard deviation of feature values for correctly classified instances\n",
    "    std_correctly_classified = np.std(correctly_classified_instances, axis=0)\n",
    "    \n",
    "    print(\"Mean Feature Values - Correctly Classified:\")\n",
    "    print(mean_correctly_classified)\n",
    "    print(\"\\nStandard Deviation of Feature Values - Correctly Classified:\")\n",
    "    print(std_correctly_classified)\n",
    "else:\n",
    "    print(\"No correctly classified instances found.\")\n"
   ]
  },
  {
   "cell_type": "markdown",
   "metadata": {},
   "source": [
    "__Explanation__\n",
    "The mean feature values for these instances are approximately [0.208, -0.048, 0.090, 0.107], and the standard deviation of feature values is around [1.013, 0.846, 1.037, 1.064]. These shared properties suggest that the model correctly classified instances with consistent average values and variability in their feature attributes. This implies that the model identified specific characteristics indicative of the \"virginica\" and \"non-virginica\" classes in the Iris dataset."
   ]
  },
  {
   "cell_type": "markdown",
   "metadata": {},
   "source": [
    "### Accuracy and Confusion metric"
   ]
  },
  {
   "cell_type": "code",
   "execution_count": 18,
   "metadata": {},
   "outputs": [
    {
     "name": "stdout",
     "output_type": "stream",
     "text": [
      "Accuracy: 1.00\n",
      "Confusion Matrix:\n",
      "[[19  0]\n",
      " [ 0 11]]\n"
     ]
    }
   ],
   "source": [
    "accuracy = accuracy_score(y_test, y_pred)                               # Calculating the accuracy\n",
    "print(f\"Accuracy: {accuracy:.2f}\")\n",
    "\n",
    "confusion = confusion_matrix(y_test, y_pred)                            # Creating a confusion matrix\n",
    "print(\"Confusion Matrix:\")\n",
    "print(confusion)"
   ]
  },
  {
   "cell_type": "markdown",
   "metadata": {},
   "source": [
    "__Explanation__\n",
    "\n",
    "The binary logistic regression model reports a perfect accuracy score of 1.00, which indicates that the model correctly classifies all instances in the test dataset. The confusion matrix supports the model's success by showing that there were no misclassifications. It correctly identified 19 instances as \"non-virginica\" and 11 instances as \"virginica,\" without making any mistakes in classification."
   ]
  }
 ],
 "metadata": {
  "kernelspec": {
   "display_name": "Python 3",
   "language": "python",
   "name": "python3"
  },
  "language_info": {
   "codemirror_mode": {
    "name": "ipython",
    "version": 3
   },
   "file_extension": ".py",
   "mimetype": "text/x-python",
   "name": "python",
   "nbconvert_exporter": "python",
   "pygments_lexer": "ipython3",
   "version": "3.11.5"
  }
 },
 "nbformat": 4,
 "nbformat_minor": 2
}
