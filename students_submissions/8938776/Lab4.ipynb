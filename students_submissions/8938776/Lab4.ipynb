{
 "cells": [
  {
   "cell_type": "markdown",
   "metadata": {},
   "source": [
    "# Velon Murugathas"
   ]
  },
  {
   "cell_type": "markdown",
   "metadata": {},
   "source": [
    "## Practical Lab 4 - Multivariate Linear and Polynomial Regression, and Evaluation using R-Squared, MAPE and MAE."
   ]
  },
  {
   "cell_type": "markdown",
   "metadata": {},
   "source": [
    "### 1. Get the data and run a train-validation-test splitting"
   ]
  },
  {
   "cell_type": "code",
   "execution_count": 16,
   "metadata": {},
   "outputs": [],
   "source": [
    "from sklearn.datasets import load_diabetes\n",
    "from sklearn.model_selection import train_test_split\n",
    "from sklearn.linear_model import LinearRegression\n",
    "from sklearn.metrics import r2_score, mean_absolute_error, mean_absolute_percentage_error\n",
    "\n",
    "diabetes_data = load_diabetes(as_frame=True)                                                            # Loading the diabetes dataset\n",
    "\n",
    "X = diabetes_data.data                                                                                  # Splitting the data for training, validation, and test sets\n",
    "y = diabetes_data.target\n",
    "\n",
    "X_train, X_temp, y_train, y_temp = train_test_split(X, y, test_size=0.2, random_state=42)\n",
    "X_valid, X_test, y_valid, y_test = train_test_split(X_temp, y_temp, test_size=0.5, random_state=42)"
   ]
  },
  {
   "cell_type": "markdown",
   "metadata": {},
   "source": [
    "### 2. Run a multivariate linear regression on all variables"
   ]
  },
  {
   "cell_type": "code",
   "execution_count": 17,
   "metadata": {},
   "outputs": [],
   "source": [
    "linear_model = LinearRegression()\n",
    "linear_model.fit(X_train, y_train)                                                                      # Fit a multivariate linear regression model\n",
    "y_pred_linear = linear_model.predict(X_valid)"
   ]
  },
  {
   "cell_type": "markdown",
   "metadata": {},
   "source": [
    "### 3. Run a polynomial regression of the 2nd degree on the BMI feature alone"
   ]
  },
  {
   "cell_type": "code",
   "execution_count": 18,
   "metadata": {},
   "outputs": [],
   "source": [
    "from sklearn.preprocessing import PolynomialFeatures\n",
    "\n",
    "X_train_bmi = X_train[['bmi']]                                                                          # Extracting the BMI feature\n",
    "X_valid_bmi = X_valid[['bmi']]\n",
    "\n",
    "poly2_bmi = PolynomialFeatures(degree=2)                                                                # Creating polynomial features for BMI\n",
    "X_train_poly2_bmi = poly2_bmi.fit_transform(X_train_bmi)\n",
    "X_valid_poly2_bmi = poly2_bmi.transform(X_valid_bmi)\n",
    "\n",
    "poly2_bmi_model = LinearRegression()                                                                    # Fitting the polynomial regression model for BMI\n",
    "poly2_bmi_model.fit(X_train_poly2_bmi, y_train)\n",
    "y_pred_poly2_bmi = poly2_bmi_model.predict(X_valid_poly2_bmi)"
   ]
  },
  {
   "cell_type": "markdown",
   "metadata": {},
   "source": [
    "### 4. Run a multivariate polynomial regression of the 2nd degree on all variables (set include_bias=False in PolynomialFeatures)"
   ]
  },
  {
   "cell_type": "code",
   "execution_count": 19,
   "metadata": {},
   "outputs": [],
   "source": [
    "poly2_all = PolynomialFeatures(degree=2, include_bias=False)                                            # Creating a polynomial features for all variables\n",
    "X_train_poly2_all = poly2_all.fit_transform(X_train)\n",
    "X_valid_poly2_all = poly2_all.transform(X_valid)\n",
    "\n",
    "poly2_all_model = LinearRegression()                                                                    # Fitting a multivariate polynomial regression model\n",
    "poly2_all_model.fit(X_train_poly2_all, y_train)\n",
    "y_pred_poly2_all = poly2_all_model.predict(X_valid_poly2_all)"
   ]
  },
  {
   "cell_type": "markdown",
   "metadata": {},
   "source": [
    "### 5. Compare the three models by looking at R-squared, MAPE, and MAE"
   ]
  },
  {
   "cell_type": "code",
   "execution_count": 20,
   "metadata": {},
   "outputs": [
    {
     "name": "stdout",
     "output_type": "stream",
     "text": [
      "Multivariate Linear Regression:\n",
      "R-squared (R²): 0.43\n",
      "Mean Absolute Percentage Error (MAPE): 38.29%\n",
      "Mean Absolute Error (MAE): 41.13\n",
      "\n",
      "Polynomial Regression of the 2nd Degree on BMI:\n",
      "R-squared (R²): 0.21\n",
      "Mean Absolute Percentage Error (MAPE): 46.32%\n",
      "Mean Absolute Error (MAE): 51.78\n",
      "\n",
      "Multivariate Polynomial Regression of the 2nd Degree on all variables:\n",
      "R-squared (R²): 0.38\n",
      "Mean Absolute Percentage Error (MAPE): 36.47%\n",
      "Mean Absolute Error (MAE): 41.17\n",
      "\n",
      "Multivariate Linear Regression:\n",
      "Number of Parameters: 10\n",
      "\n",
      "Polynomial Regression of the 2nd Degree on BMI:\n",
      "Number of Parameters: 3\n",
      "\n",
      "Multivariate Polynomial Regression of the 2nd Degree on all variables:\n",
      "Number of Parameters: 65\n"
     ]
    }
   ],
   "source": [
    "r2_linear = r2_score(y_valid, y_pred_linear)                                                            # Evaluating the models\n",
    "mape_linear = mean_absolute_percentage_error(y_valid, y_pred_linear) * 100\n",
    "mae_linear = mean_absolute_error(y_valid, y_pred_linear)\n",
    "\n",
    "r2_poly2_bmi = r2_score(y_valid, y_pred_poly2_bmi)\n",
    "mape_poly2_bmi = mean_absolute_percentage_error(y_valid, y_pred_poly2_bmi) * 100\n",
    "mae_poly2_bmi = mean_absolute_error(y_valid, y_pred_poly2_bmi)\n",
    "\n",
    "r2_poly2_all = r2_score(y_valid, y_pred_poly2_all)\n",
    "mape_poly2_all = mean_absolute_percentage_error(y_valid, y_pred_poly2_all) * 100\n",
    "mae_poly2_all = mean_absolute_error(y_valid, y_pred_poly2_all)\n",
    "\n",
    "# Calculating the number of parameters\n",
    "num_params_linear = len(linear_model.coef_)\n",
    "num_params_poly2_bmi = poly2_bmi_model.coef_.shape[0]\n",
    "num_params_poly2_all = X_train_poly2_all.shape[1]\n",
    "\n",
    "print(\"Multivariate Linear Regression:\")\n",
    "print(f\"R-squared (R²): {r2_linear:.2f}\")\n",
    "print(f\"Mean Absolute Percentage Error (MAPE): {mape_linear:.2f}%\")\n",
    "print(f\"Mean Absolute Error (MAE): {mae_linear:.2f}\\n\")\n",
    "\n",
    "print(\"Polynomial Regression of the 2nd Degree on BMI:\")\n",
    "print(f\"R-squared (R²): {r2_poly2_bmi:.2f}\")\n",
    "print(f\"Mean Absolute Percentage Error (MAPE): {mape_poly2_bmi:.2f}%\")\n",
    "print(f\"Mean Absolute Error (MAE): {mae_poly2_bmi:.2f}\\n\")\n",
    "\n",
    "print(\"Multivariate Polynomial Regression of the 2nd Degree on all variables:\")\n",
    "print(f\"R-squared (R²): {r2_poly2_all:.2f}\")\n",
    "print(f\"Mean Absolute Percentage Error (MAPE): {mape_poly2_all:.2f}%\")\n",
    "print(f\"Mean Absolute Error (MAE): {mae_poly2_all:.2f}\")\n",
    "\n",
    "print(\"\\nMultivariate Linear Regression:\")\n",
    "print(f\"Number of Parameters: {num_params_linear}\")\n",
    "\n",
    "print(\"\\nPolynomial Regression of the 2nd Degree on BMI:\")\n",
    "print(f\"Number of Parameters: {num_params_poly2_bmi}\")\n",
    "\n",
    "print(\"\\nMultivariate Polynomial Regression of the 2nd Degree on all variables:\")\n",
    "print(f\"Number of Parameters: {num_params_poly2_all}\")"
   ]
  },
  {
   "cell_type": "markdown",
   "metadata": {},
   "source": [
    "6. i. How many parameters are we fitting for each of the three models?\n",
    "\n",
    "* **Multivariate Linear Regression** - Fitted 10 parameters which corresponds to the 10 features in the dataset.\n",
    "* **Polynomial Regression of the 2nd Degree on BMI** - This model involves 3 parameters. They are the intercept, linear term and the quadratic term for the BMI feature.\n",
    "* **Multivariate Polynomial Regression of the 2nd Degree on all the variables** - 65 parameters for this model, which includes 10 original features and 10 interactive features."
   ]
  },
  {
   "cell_type": "markdown",
   "metadata": {},
   "source": [
    "ii. Which model would you choose for deployment, and why?\n",
    "\n",
    "Even though the multivariate linear regression model is the simplest, it may lack the ability to capture complex relationships, resulting in an R-squared value of 0.43, a Mean Absolute Percentage Error (MAPE) of 38.29%, and a Mean Absolute Error (MAE) of 41.13. Polynomial Regression of the 2nd Degree on BMI, with an R-squared of 0.21, a MAPE of 46.32%, and a MAE of 51.78, is also not the ideal option. This model focuses solely on a single feature (BMI), limiting its applicability to the broader dataset with multiple influencing factors. Therefore, the Multivariate Polynomial Regression is the best option for addressing complex, non-linear connections among multiple factors, as it achieves an R-squared of 0.38, a MAPE of 36.47%, and a MAE of 41.17. It excels at capturing intricate relationships, leading to highly accurate predictions."
   ]
  }
 ],
 "metadata": {
  "kernelspec": {
   "display_name": "Python 3",
   "language": "python",
   "name": "python3"
  },
  "language_info": {
   "codemirror_mode": {
    "name": "ipython",
    "version": 3
   },
   "file_extension": ".py",
   "mimetype": "text/x-python",
   "name": "python",
   "nbconvert_exporter": "python",
   "pygments_lexer": "ipython3",
   "version": "3.11.5"
  }
 },
 "nbformat": 4,
 "nbformat_minor": 2
}
